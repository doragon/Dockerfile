{
 "metadata": {
  "name": ""
 },
 "nbformat": 3,
 "nbformat_minor": 0,
 "worksheets": [
  {
   "cells": [
    {
     "cell_type": "code",
     "collapsed": false,
     "input": [
      "!git config --global core.attributesfile ~/.gitattributes\n",
      "!git config --global filter.dropoutput_ipynb.clean ~/bin/ipynb_output_filter.py\n",
      "!git config --global filter.dropoutput_ipynb.smudge cat"
     ],
     "language": "python",
     "metadata": {},
     "outputs": [],
     "prompt_number": 7
    },
    {
     "cell_type": "code",
     "collapsed": false,
     "input": [
      "!echo '*.ipynb    filter=dropoutput_ipynb' > /root/.gitattributes"
     ],
     "language": "python",
     "metadata": {},
     "outputs": [],
     "prompt_number": 8
    },
    {
     "cell_type": "code",
     "collapsed": false,
     "input": [
      "mkdir /root/bin"
     ],
     "language": "python",
     "metadata": {},
     "outputs": [],
     "prompt_number": 9
    },
    {
     "cell_type": "markdown",
     "metadata": {},
     "source": [
      "# /root/bin/ipynb_output_filter.py\n",
      "\n",
      "## introduction\n",
      "This code makes outputs of xxx.ipynb empty.\n",
      "Test.json is created when you command 'git add .'.\n",
      "\n",
      "## code\n",
      "```python\n",
      "#! /usr/bin/python\n",
      "\n",
      "import io\n",
      "import sys\n",
      "from IPython.nbformat.current import read, write\n",
      "\n",
      "json_in = read(sys.stdin, 'json')\n",
      "\n",
      "for sheet in json_in.worksheets:\n",
      "    for cell in sheet.cells:\n",
      "        if 'outputs' in cell:\n",
      "            cell.outputs = []\n",
      "        if 'prompt_number' in cell:\n",
      "            cell.prompt_number = ''\n",
      "\n",
      "with io.open('/tmp/notebook/test.json', 'w', encoding='utf-8') as f:\n",
      "    write(json_in, f, 'json')\n",
      "```"
     ]
    },
    {
     "cell_type": "code",
     "collapsed": false,
     "input": [
      "ipynb_output_filter_py = \"#! /usr/bin/python\\n\\nimport io\\nimport sys\\nfrom IPython.nbformat.current import read, write\\n\\njson_in = read(sys.stdin, 'json')\\n\\nfor sheet in json_in.worksheets:\\n    for cell in sheet.cells:\\n        if 'outputs' in cell:\\n            cell.outputs = []\\n        if 'prompt_number' in cell:\\n            cell.prompt_number = ''\\n\\nwith io.open('/tmp/notebook/test.json', 'w', encoding='utf-8') as f:\\n    write(json_in, f, 'json')\""
     ],
     "language": "python",
     "metadata": {},
     "outputs": [],
     "prompt_number": 10
    },
    {
     "cell_type": "code",
     "collapsed": false,
     "input": [
      "with open('/root/bin/ipynb_output_filter.py', 'w') as f:\n",
      "    f.write(ipynb_output_filter_py)"
     ],
     "language": "python",
     "metadata": {},
     "outputs": [],
     "prompt_number": 11
    },
    {
     "cell_type": "code",
     "collapsed": false,
     "input": [
      "!chmod +x /root/bin/ipynb_output_filter.py"
     ],
     "language": "python",
     "metadata": {},
     "outputs": [],
     "prompt_number": 13
    },
    {
     "cell_type": "code",
     "collapsed": false,
     "input": [
      "pwd"
     ],
     "language": "python",
     "metadata": {},
     "outputs": [
      {
       "metadata": {},
       "output_type": "pyout",
       "prompt_number": 14,
       "text": [
        "u'/tmp/notebook'"
       ]
      }
     ],
     "prompt_number": 14
    },
    {
     "cell_type": "code",
     "collapsed": false,
     "input": [
      "!git init"
     ],
     "language": "python",
     "metadata": {},
     "outputs": [
      {
       "output_type": "stream",
       "stream": "stdout",
       "text": [
        "Initialized empty Git repository in /tmp/notebook/.git/\r\n"
       ]
      }
     ],
     "prompt_number": 16
    },
    {
     "cell_type": "code",
     "collapsed": false,
     "input": [
      "!git status"
     ],
     "language": "python",
     "metadata": {},
     "outputs": [
      {
       "output_type": "stream",
       "stream": "stdout",
       "text": [
        "On branch master\r\n",
        "\r\n",
        "Initial commit\r\n",
        "\r\n",
        "Untracked files:\r\n",
        "  (use \"git add <file>...\" to include in what will be committed)\r\n",
        "\r\n",
        "\t\u001b[31m.ipynb_checkpoints/\u001b[m\r\n",
        "\t\u001b[31mipynb_output_filter_sample.ipynb\u001b[m\r\n",
        "\r\n",
        "nothing added to commit but untracked files present (use \"git add\" to track)\r\n"
       ]
      }
     ],
     "prompt_number": 31
    },
    {
     "cell_type": "code",
     "collapsed": false,
     "input": [
      "ls -l"
     ],
     "language": "python",
     "metadata": {},
     "outputs": [
      {
       "output_type": "stream",
       "stream": "stdout",
       "text": [
        "total 16\r\n",
        "-rw-r--r-- 1 root root 15887 Dec  9 02:43 ipynb_output_filter_sample.ipynb\r\n"
       ]
      }
     ],
     "prompt_number": 32
    },
    {
     "cell_type": "code",
     "collapsed": false,
     "input": [
      "!git add ."
     ],
     "language": "python",
     "metadata": {},
     "outputs": [],
     "prompt_number": 33
    },
    {
     "cell_type": "code",
     "collapsed": false,
     "input": [
      "ls -l"
     ],
     "language": "python",
     "metadata": {},
     "outputs": [
      {
       "output_type": "stream",
       "stream": "stdout",
       "text": [
        "total 24\r\n",
        "-rw-r--r-- 1 root root 14807 Dec  9 02:45 ipynb_output_filter_sample.ipynb\r\n",
        "-rw-r--r-- 1 root root  4693 Dec  9 02:46 test.json\r\n"
       ]
      }
     ],
     "prompt_number": 34
    },
    {
     "cell_type": "code",
     "collapsed": false,
     "input": [
      "cat test.json"
     ],
     "language": "python",
     "metadata": {},
     "outputs": [
      {
       "output_type": "stream",
       "stream": "stdout",
       "text": [
        "{\r\n",
        " \"metadata\": {\r\n",
        "  \"name\": \"\"\r\n",
        " },\r\n",
        " \"nbformat\": 3,\r\n",
        " \"nbformat_minor\": 0,\r\n",
        " \"worksheets\": [\r\n",
        "  {\r\n",
        "   \"cells\": [\r\n",
        "    {\r\n",
        "     \"cell_type\": \"code\",\r\n",
        "     \"collapsed\": false,\r\n",
        "     \"input\": [\r\n",
        "      \"!git config --global core.attributesfile ~/.gitattributes\\n\",\r\n",
        "      \"!git config --global filter.dropoutput_ipynb.clean ~/bin/ipynb_output_filter.py\\n\",\r\n",
        "      \"!git config --global filter.dropoutput_ipynb.smudge cat\"\r\n",
        "     ],\r\n",
        "     \"language\": \"python\",\r\n",
        "     \"metadata\": {},\r\n",
        "     \"outputs\": [],\r\n",
        "     \"prompt_number\": \"\"\r\n",
        "    },\r\n",
        "    {\r\n",
        "     \"cell_type\": \"code\",\r\n",
        "     \"collapsed\": false,\r\n",
        "     \"input\": [\r\n",
        "      \"!echo '*.ipynb    filter=dropoutput_ipynb' > /root/.gitattributes\"\r\n",
        "     ],\r\n",
        "     \"language\": \"python\",\r\n",
        "     \"metadata\": {},\r\n",
        "     \"outputs\": [],\r\n",
        "     \"prompt_number\": \"\"\r\n",
        "    },\r\n",
        "    {\r\n",
        "     \"cell_type\": \"code\",\r\n",
        "     \"collapsed\": false,\r\n",
        "     \"input\": [\r\n",
        "      \"mkdir /root/bin\"\r\n",
        "     ],\r\n",
        "     \"language\": \"python\",\r\n",
        "     \"metadata\": {},\r\n",
        "     \"outputs\": [],\r\n",
        "     \"prompt_number\": \"\"\r\n",
        "    },\r\n",
        "    {\r\n",
        "     \"cell_type\": \"markdown\",\r\n",
        "     \"metadata\": {},\r\n",
        "     \"source\": [\r\n",
        "      \"# /root/bin/ipynb_output_filter.py\\n\",\r\n",
        "      \"\\n\",\r\n",
        "      \"## introduction\\n\",\r\n",
        "      \"This code makes outputs of xxx.ipynb empty.\\n\",\r\n",
        "      \"Test.json is created when you command 'git add .'.\\n\",\r\n",
        "      \"\\n\",\r\n",
        "      \"## code\\n\",\r\n",
        "      \"```python\\n\",\r\n",
        "      \"#! /usr/bin/python\\n\",\r\n",
        "      \"\\n\",\r\n",
        "      \"import io\\n\",\r\n",
        "      \"import sys\\n\",\r\n",
        "      \"from IPython.nbformat.current import read, write\\n\",\r\n",
        "      \"\\n\",\r\n",
        "      \"json_in = read(sys.stdin, 'json')\\n\",\r\n",
        "      \"\\n\",\r\n",
        "      \"for sheet in json_in.worksheets:\\n\",\r\n",
        "      \"    for cell in sheet.cells:\\n\",\r\n",
        "      \"        if 'outputs' in cell:\\n\",\r\n",
        "      \"            cell.outputs = []\\n\",\r\n",
        "      \"        if 'prompt_number' in cell:\\n\",\r\n",
        "      \"            cell.prompt_number = ''\\n\",\r\n",
        "      \"\\n\",\r\n",
        "      \"with io.open('/tmp/notebook/test.json', 'w', encoding='utf-8') as f:\\n\",\r\n",
        "      \"    write(json_in, f, 'json')\\n\",\r\n",
        "      \"```\"\r\n",
        "     ]\r\n",
        "    },\r\n",
        "    {\r\n",
        "     \"cell_type\": \"code\",\r\n",
        "     \"collapsed\": false,\r\n",
        "     \"input\": [\r\n",
        "      \"ipynb_output_filter_py = \\\"#! /usr/bin/python\\\\n\\\\nimport io\\\\nimport sys\\\\nfrom IPython.nbformat.current import read, write\\\\n\\\\njson_in = read(sys.stdin, 'json')\\\\n\\\\nfor sheet in json_in.worksheets:\\\\n    for cell in sheet.cells:\\\\n        if 'outputs' in cell:\\\\n            cell.outputs = []\\\\n        if 'prompt_number' in cell:\\\\n            cell.prompt_number = ''\\\\n\\\\nwith io.open('/tmp/notebook/test.json', 'w', encoding='utf-8') as f:\\\\n    write(json_in, f, 'json')\\\"\"\r\n",
        "     ],\r\n",
        "     \"language\": \"python\",\r\n",
        "     \"metadata\": {},\r\n",
        "     \"outputs\": [],\r\n",
        "     \"prompt_number\": \"\"\r\n",
        "    },\r\n",
        "    {\r\n",
        "     \"cell_type\": \"code\",\r\n",
        "     \"collapsed\": false,\r\n",
        "     \"input\": [\r\n",
        "      \"with open('/root/bin/ipynb_output_filter.py', 'w') as f:\\n\",\r\n",
        "      \"    f.write(ipynb_output_filter_py)\"\r\n",
        "     ],\r\n",
        "     \"language\": \"python\",\r\n",
        "     \"metadata\": {},\r\n",
        "     \"outputs\": [],\r\n",
        "     \"prompt_number\": \"\"\r\n",
        "    },\r\n",
        "    {\r\n",
        "     \"cell_type\": \"code\",\r\n",
        "     \"collapsed\": false,\r\n",
        "     \"input\": [\r\n",
        "      \"!chmod +x /root/bin/ipynb_output_filter.py\"\r\n",
        "     ],\r\n",
        "     \"language\": \"python\",\r\n",
        "     \"metadata\": {},\r\n",
        "     \"outputs\": [],\r\n",
        "     \"prompt_number\": \"\"\r\n",
        "    },\r\n",
        "    {\r\n",
        "     \"cell_type\": \"code\",\r\n",
        "     \"collapsed\": false,\r\n",
        "     \"input\": [\r\n",
        "      \"pwd\"\r\n",
        "     ],\r\n",
        "     \"language\": \"python\",\r\n",
        "     \"metadata\": {},\r\n",
        "     \"outputs\": [],\r\n",
        "     \"prompt_number\": \"\"\r\n",
        "    },\r\n",
        "    {\r\n",
        "     \"cell_type\": \"code\",\r\n",
        "     \"collapsed\": false,\r\n",
        "     \"input\": [\r\n",
        "      \"!git init\"\r\n",
        "     ],\r\n",
        "     \"language\": \"python\",\r\n",
        "     \"metadata\": {},\r\n",
        "     \"outputs\": [],\r\n",
        "     \"prompt_number\": \"\"\r\n",
        "    },\r\n",
        "    {\r\n",
        "     \"cell_type\": \"code\",\r\n",
        "     \"collapsed\": false,\r\n",
        "     \"input\": [\r\n",
        "      \"!git status\"\r\n",
        "     ],\r\n",
        "     \"language\": \"python\",\r\n",
        "     \"metadata\": {},\r\n",
        "     \"outputs\": [],\r\n",
        "     \"prompt_number\": \"\"\r\n",
        "    },\r\n",
        "    {\r\n",
        "     \"cell_type\": \"code\",\r\n",
        "     \"collapsed\": false,\r\n",
        "     \"input\": [\r\n",
        "      \"ls -l\"\r\n",
        "     ],\r\n",
        "     \"language\": \"python\",\r\n",
        "     \"metadata\": {},\r\n",
        "     \"outputs\": [],\r\n",
        "     \"prompt_number\": \"\"\r\n",
        "    },\r\n",
        "    {\r\n",
        "     \"cell_type\": \"code\",\r\n",
        "     \"collapsed\": false,\r\n",
        "     \"input\": [\r\n",
        "      \"!git diff\"\r\n",
        "     ],\r\n",
        "     \"language\": \"python\",\r\n",
        "     \"metadata\": {},\r\n",
        "     \"outputs\": [],\r\n",
        "     \"prompt_number\": \"\"\r\n",
        "    },\r\n",
        "    {\r\n",
        "     \"cell_type\": \"code\",\r\n",
        "     \"collapsed\": false,\r\n",
        "     \"input\": [\r\n",
        "      \"ls -l\"\r\n",
        "     ],\r\n",
        "     \"language\": \"python\",\r\n",
        "     \"metadata\": {},\r\n",
        "     \"outputs\": [],\r\n",
        "     \"prompt_number\": \"\"\r\n",
        "    },\r\n",
        "    {\r\n",
        "     \"cell_type\": \"code\",\r\n",
        "     \"collapsed\": false,\r\n",
        "     \"input\": [\r\n",
        "      \"cat test.json\"\r\n",
        "     ],\r\n",
        "     \"language\": \"python\",\r\n",
        "     \"metadata\": {},\r\n",
        "     \"outputs\": [],\r\n",
        "     \"prompt_number\": \"\"\r\n",
        "    },\r\n",
        "    {\r\n",
        "     \"cell_type\": \"code\",\r\n",
        "     \"collapsed\": false,\r\n",
        "     \"input\": [],\r\n",
        "     \"language\": \"python\",\r\n",
        "     \"metadata\": {},\r\n",
        "     \"outputs\": []\r\n",
        "    }\r\n",
        "   ],\r\n",
        "   \"metadata\": {}\r\n",
        "  }\r\n",
        " ]\r\n",
        "}"
       ]
      }
     ],
     "prompt_number": 35
    },
    {
     "cell_type": "code",
     "collapsed": false,
     "input": [],
     "language": "python",
     "metadata": {},
     "outputs": []
    }
   ],
   "metadata": {}
  }
 ]
}